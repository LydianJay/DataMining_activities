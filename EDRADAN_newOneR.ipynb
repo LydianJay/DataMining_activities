{
 "cells": [
  {
   "cell_type": "code",
   "execution_count": 16,
   "id": "a27ca3f3",
   "metadata": {},
   "outputs": [],
   "source": [
    "import pandas as pd\n",
    "import matplotlib.pyplot as plt\n",
    "import numpy as np\n",
    "from sklearn.metrics import confusion_matrix, classification_report, f1_score, accuracy_score\n",
    "import seaborn as sns\n",
    "dataset = pd.read_csv(\"//home//lydianjay//Documents//Data mining//dataset//penguins.csv\")\n",
    "dataset.replace('NA', np.nan, inplace = True)\n",
    "dataset.replace(' ', np.nan, inplace = True)\n",
    "dataset.dropna( inplace = True, how = 'any')\n",
    "dataset = dataset[dataset.sex != '.']\n",
    "\n",
    "sp = dataset[[\"bill_length_mm\", \"bill_depth_mm\", \"flipper_length_mm\", \"body_mass_g\", \"sex\"]].loc[dataset[\"species\"] == \"Adelie\"] "
   ]
  },
  {
   "cell_type": "code",
   "execution_count": 17,
   "id": "2592793d",
   "metadata": {},
   "outputs": [],
   "source": [
    "\n",
    "blength_mean = sp[\"bill_length_mm\"].mean()\n",
    "bmass_mean = sp[\"body_mass_g\"].mean()\n",
    "\n",
    "bill_length = []\n",
    "\n",
    "body_mass = []\n",
    "\n",
    "for d in sp[\"bill_length_mm\"]:\n",
    "    if d >= blength_mean:\n",
    "        bill_length.append(\"Long Bill\")\n",
    "    else:\n",
    "        bill_length.append(\"Short Bill\")\n",
    "sp[\"Bill_Length_Cat\"] = bill_length\n",
    "        \n",
    "\n",
    "for d in sp[\"body_mass_g\"]:\n",
    "    if d >= bmass_mean:\n",
    "        body_mass.append(\"High mass\")\n",
    "    else:\n",
    "        body_mass.append(\"Low mass\")\n",
    "\n",
    "sp[\"Body_Mass_Cat\"] = body_mass\n"
   ]
  },
  {
   "cell_type": "code",
   "execution_count": 18,
   "id": "9a78faaf",
   "metadata": {},
   "outputs": [
    {
     "data": {
      "text/html": [
       "<div>\n",
       "<style scoped>\n",
       "    .dataframe tbody tr th:only-of-type {\n",
       "        vertical-align: middle;\n",
       "    }\n",
       "\n",
       "    .dataframe tbody tr th {\n",
       "        vertical-align: top;\n",
       "    }\n",
       "\n",
       "    .dataframe thead th {\n",
       "        text-align: right;\n",
       "    }\n",
       "</style>\n",
       "<table border=\"1\" class=\"dataframe\">\n",
       "  <thead>\n",
       "    <tr style=\"text-align: right;\">\n",
       "      <th></th>\n",
       "      <th>bill_length_mm</th>\n",
       "      <th>bill_depth_mm</th>\n",
       "      <th>flipper_length_mm</th>\n",
       "      <th>body_mass_g</th>\n",
       "      <th>sex</th>\n",
       "      <th>Bill_Length_Cat</th>\n",
       "      <th>Body_Mass_Cat</th>\n",
       "    </tr>\n",
       "  </thead>\n",
       "  <tbody>\n",
       "    <tr>\n",
       "      <th>0</th>\n",
       "      <td>39.1</td>\n",
       "      <td>18.7</td>\n",
       "      <td>181.0</td>\n",
       "      <td>3750.0</td>\n",
       "      <td>male</td>\n",
       "      <td>Long Bill</td>\n",
       "      <td>High mass</td>\n",
       "    </tr>\n",
       "    <tr>\n",
       "      <th>1</th>\n",
       "      <td>39.5</td>\n",
       "      <td>17.4</td>\n",
       "      <td>186.0</td>\n",
       "      <td>3800.0</td>\n",
       "      <td>female</td>\n",
       "      <td>Long Bill</td>\n",
       "      <td>High mass</td>\n",
       "    </tr>\n",
       "    <tr>\n",
       "      <th>2</th>\n",
       "      <td>40.3</td>\n",
       "      <td>18.0</td>\n",
       "      <td>195.0</td>\n",
       "      <td>3250.0</td>\n",
       "      <td>female</td>\n",
       "      <td>Long Bill</td>\n",
       "      <td>Low mass</td>\n",
       "    </tr>\n",
       "    <tr>\n",
       "      <th>4</th>\n",
       "      <td>36.7</td>\n",
       "      <td>19.3</td>\n",
       "      <td>193.0</td>\n",
       "      <td>3450.0</td>\n",
       "      <td>female</td>\n",
       "      <td>Short Bill</td>\n",
       "      <td>Low mass</td>\n",
       "    </tr>\n",
       "    <tr>\n",
       "      <th>5</th>\n",
       "      <td>39.3</td>\n",
       "      <td>20.6</td>\n",
       "      <td>190.0</td>\n",
       "      <td>3650.0</td>\n",
       "      <td>male</td>\n",
       "      <td>Long Bill</td>\n",
       "      <td>Low mass</td>\n",
       "    </tr>\n",
       "  </tbody>\n",
       "</table>\n",
       "</div>"
      ],
      "text/plain": [
       "   bill_length_mm  bill_depth_mm  flipper_length_mm  body_mass_g     sex  \\\n",
       "0            39.1           18.7              181.0       3750.0    male   \n",
       "1            39.5           17.4              186.0       3800.0  female   \n",
       "2            40.3           18.0              195.0       3250.0  female   \n",
       "4            36.7           19.3              193.0       3450.0  female   \n",
       "5            39.3           20.6              190.0       3650.0    male   \n",
       "\n",
       "  Bill_Length_Cat Body_Mass_Cat  \n",
       "0       Long Bill     High mass  \n",
       "1       Long Bill     High mass  \n",
       "2       Long Bill      Low mass  \n",
       "4      Short Bill      Low mass  \n",
       "5       Long Bill      Low mass  "
      ]
     },
     "execution_count": 18,
     "metadata": {},
     "output_type": "execute_result"
    }
   ],
   "source": [
    "sp.head()"
   ]
  },
  {
   "cell_type": "code",
   "execution_count": 21,
   "id": "f1c9c33f",
   "metadata": {},
   "outputs": [
    {
     "data": {
      "image/png": "[encoded data removed]",
      "text/plain": [
       "<Figure size 640x480 with 2 Axes>"
      ]
     },
     "metadata": {},
     "output_type": "display_data"
    }
   ],
   "source": [
    "target_variable = 'sex'\n",
    "predictor_variables = [\"Bill_Length_Cat\", \"Body_Mass_Cat\"]\n",
    "\n",
    "freq_tables = {}\n",
    "\n",
    "# Loop over predictor variables\n",
    "for predictor in predictor_variables:\n",
    "    freq_table = pd.crosstab(sp[predictor], sp[target_variable])\n",
    "    rules = {}\n",
    "    for index, row in freq_table.iterrows():\n",
    "        rules[index] = row.idxmax()\n",
    "    total_error = sum(freq_table.sum()) - freq_table.max().sum()\n",
    "    freq_tables[predictor] = {'freq_table': freq_table, 'rules': rules, 'total_error': total_error}\n",
    "\n",
    "best_predictor = min(freq_tables, key=lambda k: freq_tables[k]['total_error'])\n",
    "# Calculate the confusion matrix\n",
    "predictions = [freq_tables[best_predictor]['rules'][value] for value in sp[best_predictor]]\n",
    "actuals = sp[target_variable]\n",
    "conf_matrix = confusion_matrix(actuals, predictions)\n",
    "\n",
    "\n",
    "report = classification_report(actuals, predictions, target_names=['female', 'male'], output_dict=False)\n",
    "\n",
    "\n",
    "sns.set(font_scale=1)\n",
    "sns.heatmap(conf_matrix, annot=True, annot_kws={\"size\": 12}, cmap='coolwarm', fmt='g', xticklabels=['Male', 'Female'], yticklabels=['Male', 'Female'])\n",
    "plt.xlabel('Predicted Class', fontsize=12)\n",
    "plt.ylabel('True Class', fontsize=12)\n",
    "plt.title('Confusion Matrix', fontsize=12)\n",
    "plt.show()"
   ]
  },
  {
   "cell_type": "code",
   "execution_count": 22,
   "id": "c923490c",
   "metadata": {},
   "outputs": [
    {
     "name": "stdout",
     "output_type": "stream",
     "text": [
      "              precision    recall  f1-score   support\n",
      "\n",
      "      female       0.84      0.89      0.87        73\n",
      "        male       0.88      0.84      0.86        73\n",
      "\n",
      "    accuracy                           0.86       146\n",
      "   macro avg       0.86      0.86      0.86       146\n",
      "weighted avg       0.86      0.86      0.86       146\n",
      "\n"
     ]
    }
   ],
   "source": [
    "print(report)"
   ]
  },
  {
   "cell_type": "code",
   "execution_count": null,
   "id": "469daaef",
   "metadata": {},
   "outputs": [],
   "source": []
  },
  {
   "cell_type": "code",
   "execution_count": null,
   "id": "7099d186",
   "metadata": {},
   "outputs": [],
   "source": []
  }
 ],
 "metadata": {
  "kernelspec": {
   "display_name": "Python 3 (ipykernel)",
   "language": "python",
   "name": "python3"
  },
  "language_info": {
   "codemirror_mode": {
    "name": "ipython",
    "version": 3
   },
   "file_extension": ".py",
   "mimetype": "text/x-python",
   "name": "python",
   "nbconvert_exporter": "python",
   "pygments_lexer": "ipython3",
   "version": "3.10.6"
  }
 },
 "nbformat": 4,
 "nbformat_minor": 5
}
